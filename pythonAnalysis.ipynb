{
 "cells": [
  {
   "cell_type": "markdown",
   "metadata": {},
   "source": [
    "### Assessment 2 : Lanthanides"
   ]
  },
  {
   "cell_type": "markdown",
   "metadata": {},
   "source": [
    "# Part 1\n",
    "Analyse the data with Principal Component Analysis (PCA) and k-means clustering decide how to deal with missing data and identify and explain any clusters observed."
   ]
  },
  {
   "cell_type": "code",
   "execution_count": 42,
   "metadata": {},
   "outputs": [],
   "source": [
    "## Imports\n",
    "import numpy as np\n",
    "import pandas as pd\n",
    "import matplotlib.pyplot as plt\n",
    "import seaborn as sns\n",
    "\n",
    "from sklearn.decomposition import PCA\n",
    "from sklearn.preprocessing import StandardScaler\n",
    "\n",
    "from sklearn.decomposition import IncrementalPCA\n",
    "\n",
    "from sklearn.linear_model import LinearRegression\n",
    "from sklearn.model_selection import train_test_split\n",
    "\n",
    "from sklearn.cluster import KMeans\n",
    "\n",
    "## Filling in the NaN\n",
    "from sklearn.impute import SimpleImputer\n",
    "from sklearn.impute import KNNImputer\n",
    "from sklearn.metrics import mean_squared_error, mean_absolute_error, r2_score, accuracy_score"
   ]
  },
  {
   "cell_type": "code",
   "execution_count": 43,
   "metadata": {},
   "outputs": [],
   "source": [
    "# Read in the data, split the numerical data from the element names\n",
    "df_all = pd.read_csv(\"Lanthanides.csv\")\n",
    "elements = df_all[\"Element\"]\n",
    "df = df_all.iloc[:,1:]"
   ]
  },
  {
   "cell_type": "code",
   "execution_count": 44,
   "metadata": {},
   "outputs": [
    {
     "data": {
      "text/html": [
       "<div>\n",
       "<style scoped>\n",
       "    .dataframe tbody tr th:only-of-type {\n",
       "        vertical-align: middle;\n",
       "    }\n",
       "\n",
       "    .dataframe tbody tr th {\n",
       "        vertical-align: top;\n",
       "    }\n",
       "\n",
       "    .dataframe thead th {\n",
       "        text-align: right;\n",
       "    }\n",
       "</style>\n",
       "<table border=\"1\" class=\"dataframe\">\n",
       "  <thead>\n",
       "    <tr style=\"text-align: right;\">\n",
       "      <th></th>\n",
       "      <th>Ma</th>\n",
       "      <th>d/(g/cm3)</th>\n",
       "      <th>ra/pm</th>\n",
       "      <th>χ</th>\n",
       "      <th>I1/(kJ/mol)</th>\n",
       "      <th>I2/(kJ/mol)</th>\n",
       "      <th>I3/(kJ/mol)</th>\n",
       "      <th>Tm/K</th>\n",
       "      <th>Tb/K</th>\n",
       "      <th>ΔfusH/(kJ/mol)</th>\n",
       "      <th>ΔvapH/(kJ/mol)</th>\n",
       "      <th>ΔatmH/(kJ/mol)</th>\n",
       "      <th>S/(J/mol K)</th>\n",
       "      <th>Cp/(J/g K)</th>\n",
       "      <th>σm/(MN/m)</th>\n",
       "      <th>ρ/(µΩ cm)</th>\n",
       "      <th>λ/(W cm-1 K-1)</th>\n",
       "      <th>ΔfG/(kJ/mol)</th>\n",
       "    </tr>\n",
       "  </thead>\n",
       "  <tbody>\n",
       "    <tr>\n",
       "      <th>count</th>\n",
       "      <td>17.000000</td>\n",
       "      <td>17.000000</td>\n",
       "      <td>17.000000</td>\n",
       "      <td>17.000000</td>\n",
       "      <td>17.000000</td>\n",
       "      <td>17.000000</td>\n",
       "      <td>17.000000</td>\n",
       "      <td>17.000000</td>\n",
       "      <td>17.000000</td>\n",
       "      <td>17.000000</td>\n",
       "      <td>16.000000</td>\n",
       "      <td>17.000000</td>\n",
       "      <td>17.000000</td>\n",
       "      <td>17.000000</td>\n",
       "      <td>16.000000</td>\n",
       "      <td>17.000000</td>\n",
       "      <td>17.000000</td>\n",
       "      <td>17.000000</td>\n",
       "    </tr>\n",
       "    <tr>\n",
       "      <th>mean</th>\n",
       "      <td>145.476765</td>\n",
       "      <td>7.227059</td>\n",
       "      <td>180.235294</td>\n",
       "      <td>1.192941</td>\n",
       "      <td>565.476471</td>\n",
       "      <td>1125.276471</td>\n",
       "      <td>2154.500000</td>\n",
       "      <td>1495.705882</td>\n",
       "      <td>3050.058824</td>\n",
       "      <td>11.131765</td>\n",
       "      <td>279.843750</td>\n",
       "      <td>328.311765</td>\n",
       "      <td>65.947059</td>\n",
       "      <td>0.208059</td>\n",
       "      <td>659.125000</td>\n",
       "      <td>76.582353</td>\n",
       "      <td>0.156824</td>\n",
       "      <td>-323.647059</td>\n",
       "    </tr>\n",
       "    <tr>\n",
       "      <th>std</th>\n",
       "      <td>32.698112</td>\n",
       "      <td>1.796075</td>\n",
       "      <td>8.947971</td>\n",
       "      <td>0.068990</td>\n",
       "      <td>34.969425</td>\n",
       "      <td>83.719879</td>\n",
       "      <td>165.167718</td>\n",
       "      <td>303.925518</td>\n",
       "      <td>732.456950</td>\n",
       "      <td>4.644774</td>\n",
       "      <td>90.952449</td>\n",
       "      <td>90.447076</td>\n",
       "      <td>12.336841</td>\n",
       "      <td>0.093100</td>\n",
       "      <td>190.418793</td>\n",
       "      <td>24.363272</td>\n",
       "      <td>0.063654</td>\n",
       "      <td>32.359197</td>\n",
       "    </tr>\n",
       "    <tr>\n",
       "      <th>min</th>\n",
       "      <td>44.956000</td>\n",
       "      <td>2.990000</td>\n",
       "      <td>164.000000</td>\n",
       "      <td>1.100000</td>\n",
       "      <td>523.100000</td>\n",
       "      <td>1017.900000</td>\n",
       "      <td>1850.300000</td>\n",
       "      <td>1068.000000</td>\n",
       "      <td>1467.000000</td>\n",
       "      <td>5.460000</td>\n",
       "      <td>128.900000</td>\n",
       "      <td>152.000000</td>\n",
       "      <td>34.600000</td>\n",
       "      <td>0.144000</td>\n",
       "      <td>264.000000</td>\n",
       "      <td>25.000000</td>\n",
       "      <td>0.105000</td>\n",
       "      <td>-405.000000</td>\n",
       "    </tr>\n",
       "    <tr>\n",
       "      <th>25%</th>\n",
       "      <td>140.908000</td>\n",
       "      <td>6.770000</td>\n",
       "      <td>176.000000</td>\n",
       "      <td>1.130000</td>\n",
       "      <td>535.900000</td>\n",
       "      <td>1067.100000</td>\n",
       "      <td>2022.200000</td>\n",
       "      <td>1208.000000</td>\n",
       "      <td>2840.000000</td>\n",
       "      <td>7.660000</td>\n",
       "      <td>220.250000</td>\n",
       "      <td>291.000000</td>\n",
       "      <td>59.900000</td>\n",
       "      <td>0.169000</td>\n",
       "      <td>645.250000</td>\n",
       "      <td>61.500000</td>\n",
       "      <td>0.125000</td>\n",
       "      <td>-331.000000</td>\n",
       "    </tr>\n",
       "    <tr>\n",
       "      <th>50%</th>\n",
       "      <td>151.960000</td>\n",
       "      <td>7.260000</td>\n",
       "      <td>180.000000</td>\n",
       "      <td>1.200000</td>\n",
       "      <td>564.600000</td>\n",
       "      <td>1126.000000</td>\n",
       "      <td>2151.600000</td>\n",
       "      <td>1586.000000</td>\n",
       "      <td>3300.000000</td>\n",
       "      <td>10.000000</td>\n",
       "      <td>284.900000</td>\n",
       "      <td>348.000000</td>\n",
       "      <td>71.600000</td>\n",
       "      <td>0.184000</td>\n",
       "      <td>674.500000</td>\n",
       "      <td>74.400000</td>\n",
       "      <td>0.145000</td>\n",
       "      <td>-321.000000</td>\n",
       "    </tr>\n",
       "    <tr>\n",
       "      <th>75%</th>\n",
       "      <td>164.930000</td>\n",
       "      <td>8.550000</td>\n",
       "      <td>182.000000</td>\n",
       "      <td>1.230000</td>\n",
       "      <td>592.500000</td>\n",
       "      <td>1166.500000</td>\n",
       "      <td>2257.700000</td>\n",
       "      <td>1795.000000</td>\n",
       "      <td>3610.000000</td>\n",
       "      <td>14.100000</td>\n",
       "      <td>356.775000</td>\n",
       "      <td>398.000000</td>\n",
       "      <td>73.200000</td>\n",
       "      <td>0.190000</td>\n",
       "      <td>709.750000</td>\n",
       "      <td>90.000000</td>\n",
       "      <td>0.165000</td>\n",
       "      <td>-301.000000</td>\n",
       "    </tr>\n",
       "    <tr>\n",
       "      <th>max</th>\n",
       "      <td>174.967000</td>\n",
       "      <td>9.840000</td>\n",
       "      <td>204.000000</td>\n",
       "      <td>1.360000</td>\n",
       "      <td>631.000000</td>\n",
       "      <td>1341.100000</td>\n",
       "      <td>2416.900000</td>\n",
       "      <td>1936.000000</td>\n",
       "      <td>3790.000000</td>\n",
       "      <td>19.900000</td>\n",
       "      <td>400.000000</td>\n",
       "      <td>431.000000</td>\n",
       "      <td>77.800000</td>\n",
       "      <td>0.544000</td>\n",
       "      <td>954.000000</td>\n",
       "      <td>131.000000</td>\n",
       "      <td>0.385000</td>\n",
       "      <td>-284.000000</td>\n",
       "    </tr>\n",
       "  </tbody>\n",
       "</table>\n",
       "</div>"
      ],
      "text/plain": [
       "               Ma  d/(g/cm3)       ra/pm          χ  I1/(kJ/mol)  I2/(kJ/mol)  \\\n",
       "count   17.000000  17.000000   17.000000  17.000000    17.000000    17.000000   \n",
       "mean   145.476765   7.227059  180.235294   1.192941   565.476471  1125.276471   \n",
       "std     32.698112   1.796075    8.947971   0.068990    34.969425    83.719879   \n",
       "min     44.956000   2.990000  164.000000   1.100000   523.100000  1017.900000   \n",
       "25%    140.908000   6.770000  176.000000   1.130000   535.900000  1067.100000   \n",
       "50%    151.960000   7.260000  180.000000   1.200000   564.600000  1126.000000   \n",
       "75%    164.930000   8.550000  182.000000   1.230000   592.500000  1166.500000   \n",
       "max    174.967000   9.840000  204.000000   1.360000   631.000000  1341.100000   \n",
       "\n",
       "       I3/(kJ/mol)         Tm/K         Tb/K  ΔfusH/(kJ/mol)  ΔvapH/(kJ/mol)  \\\n",
       "count    17.000000    17.000000    17.000000       17.000000       16.000000   \n",
       "mean   2154.500000  1495.705882  3050.058824       11.131765      279.843750   \n",
       "std     165.167718   303.925518   732.456950        4.644774       90.952449   \n",
       "min    1850.300000  1068.000000  1467.000000        5.460000      128.900000   \n",
       "25%    2022.200000  1208.000000  2840.000000        7.660000      220.250000   \n",
       "50%    2151.600000  1586.000000  3300.000000       10.000000      284.900000   \n",
       "75%    2257.700000  1795.000000  3610.000000       14.100000      356.775000   \n",
       "max    2416.900000  1936.000000  3790.000000       19.900000      400.000000   \n",
       "\n",
       "       ΔatmH/(kJ/mol)  S/(J/mol K)  Cp/(J/g K)   σm/(MN/m)   ρ/(µΩ cm)  \\\n",
       "count       17.000000    17.000000   17.000000   16.000000   17.000000   \n",
       "mean       328.311765    65.947059    0.208059  659.125000   76.582353   \n",
       "std         90.447076    12.336841    0.093100  190.418793   24.363272   \n",
       "min        152.000000    34.600000    0.144000  264.000000   25.000000   \n",
       "25%        291.000000    59.900000    0.169000  645.250000   61.500000   \n",
       "50%        348.000000    71.600000    0.184000  674.500000   74.400000   \n",
       "75%        398.000000    73.200000    0.190000  709.750000   90.000000   \n",
       "max        431.000000    77.800000    0.544000  954.000000  131.000000   \n",
       "\n",
       "       λ/(W cm-1 K-1)  ΔfG/(kJ/mol)  \n",
       "count       17.000000     17.000000  \n",
       "mean         0.156824   -323.647059  \n",
       "std          0.063654     32.359197  \n",
       "min          0.105000   -405.000000  \n",
       "25%          0.125000   -331.000000  \n",
       "50%          0.145000   -321.000000  \n",
       "75%          0.165000   -301.000000  \n",
       "max          0.385000   -284.000000  "
      ]
     },
     "execution_count": 44,
     "metadata": {},
     "output_type": "execute_result"
    }
   ],
   "source": [
    "df.describe()"
   ]
  },
  {
   "cell_type": "markdown",
   "metadata": {},
   "source": [
    "Here we can see that the columns are very much on different orders of magnitude, therefore they should be standardised when using distance based analysis."
   ]
  },
  {
   "cell_type": "code",
   "execution_count": 45,
   "metadata": {},
   "outputs": [
    {
     "name": "stdout",
     "output_type": "stream",
     "text": [
      "<class 'pandas.core.frame.DataFrame'>\n",
      "RangeIndex: 17 entries, 0 to 16\n",
      "Data columns (total 18 columns):\n",
      " #   Column          Non-Null Count  Dtype  \n",
      "---  ------          --------------  -----  \n",
      " 0   Ma              17 non-null     float64\n",
      " 1   d/(g/cm3)       17 non-null     float64\n",
      " 2   ra/pm           17 non-null     int64  \n",
      " 3   χ               17 non-null     float64\n",
      " 4   I1/(kJ/mol)     17 non-null     float64\n",
      " 5   I2/(kJ/mol)     17 non-null     float64\n",
      " 6   I3/(kJ/mol)     17 non-null     float64\n",
      " 7   Tm/K            17 non-null     int64  \n",
      " 8   Tb/K            17 non-null     int64  \n",
      " 9   ΔfusH/(kJ/mol)  17 non-null     float64\n",
      " 10  ΔvapH/(kJ/mol)  16 non-null     float64\n",
      " 11  ΔatmH/(kJ/mol)  17 non-null     float64\n",
      " 12  S/(J/mol K)     17 non-null     float64\n",
      " 13  Cp/(J/g K)      17 non-null     float64\n",
      " 14  σm/(MN/m)       16 non-null     float64\n",
      " 15  ρ/(µΩ cm)       17 non-null     float64\n",
      " 16  λ/(W cm-1 K-1)  17 non-null     float64\n",
      " 17  ΔfG/(kJ/mol)    17 non-null     int64  \n",
      "dtypes: float64(14), int64(4)\n",
      "memory usage: 2.5 KB\n"
     ]
    }
   ],
   "source": [
    "df.info()"
   ]
  },
  {
   "cell_type": "markdown",
   "metadata": {},
   "source": [
    "Using the .info() function as well as looking at the data set, one can see that the colunms \"ΔvapH/(kJ/mol)\" and \"σm/(MN/m)\" both contain 1 NaN value.\n",
    "\n",
    "Since our dataset is small with unique data to each element, it is much better to infer these missing values rather than disregard the whole row."
   ]
  },
  {
   "cell_type": "markdown",
   "metadata": {},
   "source": [
    "There are different statistical techniques that can be used to estimate the missing values.\n",
    "The methods that we will explore include :\n",
    "- Mean and Median Imputation, however this can lead to a biased estimate if the data has a skewed distribution.\n",
    "- Simple Linear Regression Imputation : Replacing missing values with predictions generated by a regression model.\n",
    "- Multiple Linear Regression Imputation : Creating multiple imputed datasets and then analyzes them together to produce a more robust and accurate estimate of the missing values.\n",
    "- K Means Clustering : Cluster the data into groups using the k-means algorithm and then to replace the missing values in each group with the mean value of the non-missing values within the group."
   ]
  },
  {
   "cell_type": "markdown",
   "metadata": {},
   "source": [
    "#### Replacing the NaNs"
   ]
  },
  {
   "cell_type": "markdown",
   "metadata": {},
   "source": [
    "Method 1 : Inputing metrics values\n",
    "\n",
    "- This could mean using the mean\n",
    "    - The mean has a very interesting property whereby it doesn't change if you add more mean values to your data.\n",
    "- The median\n",
    "    - Splits the values in 2 halves and takes the middle value no skewed by new values as much as mean."
   ]
  },
  {
   "cell_type": "code",
   "execution_count": 46,
   "metadata": {},
   "outputs": [
    {
     "name": "stdout",
     "output_type": "stream",
     "text": [
      "For Mean Imputation: \n",
      "The missing value for ΔvapH/(kJ/mol) is 279.84375.\n",
      "The missing value for σm/(MN/m) is 659.125.\n",
      "For Median Imputation: \n",
      "The missing value for ΔvapH/(kJ/mol) is 284.9.\n",
      "The missing value for σm/(MN/m) is 674.5.\n"
     ]
    }
   ],
   "source": [
    "# Creating the mean and median dataframes\n",
    "df_mean = df.copy()\n",
    "df_median = df.copy()\n",
    "\n",
    "## Replacing all NaN values with the mean of the column\n",
    "imputer = SimpleImputer(strategy='mean')\n",
    "df_mean_imputed = imputer.fit_transform(df_mean)\n",
    "\n",
    "## Replacing all NaN values with the median of the column\n",
    "imputer = SimpleImputer(strategy='median')\n",
    "df_median_imputed = imputer.fit_transform(df_median)\n",
    "\n",
    "\n",
    "df_mean_imputed = pd.DataFrame(df_mean_imputed)\n",
    "df_mean_imputed.columns = df.columns\n",
    "\n",
    "df_median_imputed = pd.DataFrame(df_median_imputed)\n",
    "df_median_imputed.columns = df.columns\n",
    "\n",
    "\n",
    "value1 = df_mean_imputed[\"ΔvapH/(kJ/mol)\"][6]\n",
    "value2 = df_mean_imputed[\"σm/(MN/m)\"][14] \n",
    "print(\"For Mean Imputation: \")\n",
    "print(f\"The missing value for ΔvapH/(kJ/mol) is {value1}.\") \n",
    "print(f\"The missing value for σm/(MN/m) is {value2}.\")\n",
    "\n",
    "print(\"For Median Imputation: \")\n",
    "value1 = df_median_imputed[\"ΔvapH/(kJ/mol)\"][6]\n",
    "value2 = df_median_imputed[\"σm/(MN/m)\"][14] \n",
    "print(f\"The missing value for ΔvapH/(kJ/mol) is {value1}.\") \n",
    "print(f\"The missing value for σm/(MN/m) is {value2}.\")\n"
   ]
  },
  {
   "cell_type": "markdown",
   "metadata": {},
   "source": [
    "Method 2 : Simple Linear Regression Imputation"
   ]
  },
  {
   "cell_type": "code",
   "execution_count": 47,
   "metadata": {},
   "outputs": [],
   "source": [
    "# Create the dataframe\n",
    "df_sing_reg = df.copy()"
   ]
  },
  {
   "cell_type": "markdown",
   "metadata": {},
   "source": [
    "Train a linear model to find the seperate values. Will train a 2 models. One to predict ΔvapH/(kJ/mol) and one for σm/(MN/m).\n",
    "\n",
    "- A quick way would be to find a column with a high correlation to the one we want to find a value for. A simple linear regression model could then be trained off the two column and a suitable imputable value can be calculated. "
   ]
  },
  {
   "cell_type": "code",
   "execution_count": 48,
   "metadata": {},
   "outputs": [
    {
     "data": {
      "text/html": [
       "<div>\n",
       "<style scoped>\n",
       "    .dataframe tbody tr th:only-of-type {\n",
       "        vertical-align: middle;\n",
       "    }\n",
       "\n",
       "    .dataframe tbody tr th {\n",
       "        vertical-align: top;\n",
       "    }\n",
       "\n",
       "    .dataframe thead th {\n",
       "        text-align: right;\n",
       "    }\n",
       "</style>\n",
       "<table border=\"1\" class=\"dataframe\">\n",
       "  <thead>\n",
       "    <tr style=\"text-align: right;\">\n",
       "      <th></th>\n",
       "      <th>Ma</th>\n",
       "      <th>d/(g/cm3)</th>\n",
       "      <th>ra/pm</th>\n",
       "      <th>χ</th>\n",
       "      <th>I1/(kJ/mol)</th>\n",
       "      <th>I2/(kJ/mol)</th>\n",
       "      <th>I3/(kJ/mol)</th>\n",
       "      <th>Tm/K</th>\n",
       "      <th>Tb/K</th>\n",
       "      <th>ΔfusH/(kJ/mol)</th>\n",
       "      <th>ΔvapH/(kJ/mol)</th>\n",
       "      <th>ΔatmH/(kJ/mol)</th>\n",
       "      <th>S/(J/mol K)</th>\n",
       "      <th>Cp/(J/g K)</th>\n",
       "      <th>σm/(MN/m)</th>\n",
       "      <th>ρ/(µΩ cm)</th>\n",
       "      <th>λ/(W cm-1 K-1)</th>\n",
       "      <th>ΔfG/(kJ/mol)</th>\n",
       "    </tr>\n",
       "  </thead>\n",
       "  <tbody>\n",
       "    <tr>\n",
       "      <th>Ma</th>\n",
       "      <td>1.000000</td>\n",
       "      <td>0.868690</td>\n",
       "      <td>0.336646</td>\n",
       "      <td>-0.317519</td>\n",
       "      <td>-0.397909</td>\n",
       "      <td>-0.072709</td>\n",
       "      <td>-0.018879</td>\n",
       "      <td>-0.120679</td>\n",
       "      <td>-0.256316</td>\n",
       "      <td>0.129541</td>\n",
       "      <td>-0.364130</td>\n",
       "      <td>-0.364868</td>\n",
       "      <td>0.719466</td>\n",
       "      <td>-0.929526</td>\n",
       "      <td>-0.505585</td>\n",
       "      <td>0.226164</td>\n",
       "      <td>0.115689</td>\n",
       "      <td>0.230302</td>\n",
       "    </tr>\n",
       "    <tr>\n",
       "      <th>d/(g/cm3)</th>\n",
       "      <td>0.868690</td>\n",
       "      <td>1.000000</td>\n",
       "      <td>-0.144351</td>\n",
       "      <td>0.040275</td>\n",
       "      <td>-0.272558</td>\n",
       "      <td>0.144127</td>\n",
       "      <td>-0.126514</td>\n",
       "      <td>0.297898</td>\n",
       "      <td>-0.010042</td>\n",
       "      <td>0.440018</td>\n",
       "      <td>-0.157782</td>\n",
       "      <td>-0.107784</td>\n",
       "      <td>0.564918</td>\n",
       "      <td>-0.736813</td>\n",
       "      <td>-0.091693</td>\n",
       "      <td>0.288231</td>\n",
       "      <td>-0.073828</td>\n",
       "      <td>0.338545</td>\n",
       "    </tr>\n",
       "    <tr>\n",
       "      <th>ra/pm</th>\n",
       "      <td>0.336646</td>\n",
       "      <td>-0.144351</td>\n",
       "      <td>1.000000</td>\n",
       "      <td>-0.662319</td>\n",
       "      <td>-0.225569</td>\n",
       "      <td>-0.338621</td>\n",
       "      <td>0.202693</td>\n",
       "      <td>-0.648802</td>\n",
       "      <td>-0.481473</td>\n",
       "      <td>-0.447482</td>\n",
       "      <td>-0.449320</td>\n",
       "      <td>-0.525168</td>\n",
       "      <td>0.331390</td>\n",
       "      <td>-0.446943</td>\n",
       "      <td>-0.784427</td>\n",
       "      <td>-0.065404</td>\n",
       "      <td>0.331468</td>\n",
       "      <td>-0.289548</td>\n",
       "    </tr>\n",
       "    <tr>\n",
       "      <th>χ</th>\n",
       "      <td>-0.317519</td>\n",
       "      <td>0.040275</td>\n",
       "      <td>-0.662319</td>\n",
       "      <td>1.000000</td>\n",
       "      <td>0.703287</td>\n",
       "      <td>0.811946</td>\n",
       "      <td>0.330972</td>\n",
       "      <td>0.838060</td>\n",
       "      <td>-0.048030</td>\n",
       "      <td>0.751272</td>\n",
       "      <td>-0.001046</td>\n",
       "      <td>0.075446</td>\n",
       "      <td>-0.547324</td>\n",
       "      <td>0.564260</td>\n",
       "      <td>0.502571</td>\n",
       "      <td>-0.124647</td>\n",
       "      <td>0.124658</td>\n",
       "      <td>0.571748</td>\n",
       "    </tr>\n",
       "    <tr>\n",
       "      <th>I1/(kJ/mol)</th>\n",
       "      <td>-0.397909</td>\n",
       "      <td>-0.272558</td>\n",
       "      <td>-0.225569</td>\n",
       "      <td>0.703287</td>\n",
       "      <td>1.000000</td>\n",
       "      <td>0.496997</td>\n",
       "      <td>0.396354</td>\n",
       "      <td>0.511619</td>\n",
       "      <td>-0.285638</td>\n",
       "      <td>0.403203</td>\n",
       "      <td>-0.132607</td>\n",
       "      <td>-0.148070</td>\n",
       "      <td>-0.439499</td>\n",
       "      <td>0.548659</td>\n",
       "      <td>0.101693</td>\n",
       "      <td>-0.087737</td>\n",
       "      <td>0.316040</td>\n",
       "      <td>0.261853</td>\n",
       "    </tr>\n",
       "  </tbody>\n",
       "</table>\n",
       "</div>"
      ],
      "text/plain": [
       "                   Ma  d/(g/cm3)     ra/pm         χ  I1/(kJ/mol)  \\\n",
       "Ma           1.000000   0.868690  0.336646 -0.317519    -0.397909   \n",
       "d/(g/cm3)    0.868690   1.000000 -0.144351  0.040275    -0.272558   \n",
       "ra/pm        0.336646  -0.144351  1.000000 -0.662319    -0.225569   \n",
       "χ           -0.317519   0.040275 -0.662319  1.000000     0.703287   \n",
       "I1/(kJ/mol) -0.397909  -0.272558 -0.225569  0.703287     1.000000   \n",
       "\n",
       "             I2/(kJ/mol)  I3/(kJ/mol)      Tm/K      Tb/K  ΔfusH/(kJ/mol)  \\\n",
       "Ma             -0.072709    -0.018879 -0.120679 -0.256316        0.129541   \n",
       "d/(g/cm3)       0.144127    -0.126514  0.297898 -0.010042        0.440018   \n",
       "ra/pm          -0.338621     0.202693 -0.648802 -0.481473       -0.447482   \n",
       "χ               0.811946     0.330972  0.838060 -0.048030        0.751272   \n",
       "I1/(kJ/mol)     0.496997     0.396354  0.511619 -0.285638        0.403203   \n",
       "\n",
       "             ΔvapH/(kJ/mol)  ΔatmH/(kJ/mol)  S/(J/mol K)  Cp/(J/g K)  \\\n",
       "Ma                -0.364130       -0.364868     0.719466   -0.929526   \n",
       "d/(g/cm3)         -0.157782       -0.107784     0.564918   -0.736813   \n",
       "ra/pm             -0.449320       -0.525168     0.331390   -0.446943   \n",
       "χ                 -0.001046        0.075446    -0.547324    0.564260   \n",
       "I1/(kJ/mol)       -0.132607       -0.148070    -0.439499    0.548659   \n",
       "\n",
       "             σm/(MN/m)  ρ/(µΩ cm)  λ/(W cm-1 K-1)  ΔfG/(kJ/mol)  \n",
       "Ma           -0.505585   0.226164        0.115689      0.230302  \n",
       "d/(g/cm3)    -0.091693   0.288231       -0.073828      0.338545  \n",
       "ra/pm        -0.784427  -0.065404        0.331468     -0.289548  \n",
       "χ             0.502571  -0.124647        0.124658      0.571748  \n",
       "I1/(kJ/mol)   0.101693  -0.087737        0.316040      0.261853  "
      ]
     },
     "execution_count": 48,
     "metadata": {},
     "output_type": "execute_result"
    }
   ],
   "source": [
    "df.corr().head()"
   ]
  },
  {
   "cell_type": "markdown",
   "metadata": {},
   "source": [
    "For ΔvapH/(kJ/mol):"
   ]
  },
  {
   "cell_type": "code",
   "execution_count": 49,
   "metadata": {},
   "outputs": [
    {
     "data": {
      "text/plain": [
       "ΔvapH/(kJ/mol)    1.00000\n",
       "ΔatmH/(kJ/mol)    0.98582\n",
       "Name: ΔvapH/(kJ/mol), dtype: float64"
      ]
     },
     "execution_count": 49,
     "metadata": {},
     "output_type": "execute_result"
    }
   ],
   "source": [
    "df.corr()[\"ΔvapH/(kJ/mol)\"].nlargest(2)"
   ]
  },
  {
   "cell_type": "code",
   "execution_count": 50,
   "metadata": {},
   "outputs": [
    {
     "data": {
      "text/html": [
       "<div>\n",
       "<style scoped>\n",
       "    .dataframe tbody tr th:only-of-type {\n",
       "        vertical-align: middle;\n",
       "    }\n",
       "\n",
       "    .dataframe tbody tr th {\n",
       "        vertical-align: top;\n",
       "    }\n",
       "\n",
       "    .dataframe thead th {\n",
       "        text-align: right;\n",
       "    }\n",
       "</style>\n",
       "<table border=\"1\" class=\"dataframe\">\n",
       "  <thead>\n",
       "    <tr style=\"text-align: right;\">\n",
       "      <th></th>\n",
       "      <th>ΔvapH/(kJ/mol)</th>\n",
       "      <th>ΔatmH/(kJ/mol)</th>\n",
       "    </tr>\n",
       "  </thead>\n",
       "  <tbody>\n",
       "    <tr>\n",
       "      <th>0</th>\n",
       "      <td>310.0</td>\n",
       "      <td>377.8</td>\n",
       "    </tr>\n",
       "    <tr>\n",
       "      <th>1</th>\n",
       "      <td>393.3</td>\n",
       "      <td>424.7</td>\n",
       "    </tr>\n",
       "    <tr>\n",
       "      <th>2</th>\n",
       "      <td>400.0</td>\n",
       "      <td>431.0</td>\n",
       "    </tr>\n",
       "    <tr>\n",
       "      <th>3</th>\n",
       "      <td>398.0</td>\n",
       "      <td>423.0</td>\n",
       "    </tr>\n",
       "    <tr>\n",
       "      <th>4</th>\n",
       "      <td>296.8</td>\n",
       "      <td>356.0</td>\n",
       "    </tr>\n",
       "  </tbody>\n",
       "</table>\n",
       "</div>"
      ],
      "text/plain": [
       "   ΔvapH/(kJ/mol)  ΔatmH/(kJ/mol)\n",
       "0           310.0           377.8\n",
       "1           393.3           424.7\n",
       "2           400.0           431.0\n",
       "3           398.0           423.0\n",
       "4           296.8           356.0"
      ]
     },
     "execution_count": 50,
     "metadata": {},
     "output_type": "execute_result"
    }
   ],
   "source": [
    "df[[\"ΔvapH/(kJ/mol)\",\"ΔatmH/(kJ/mol)\"]].head()"
   ]
  },
  {
   "cell_type": "markdown",
   "metadata": {},
   "source": [
    "This shows that the second largest correlation to ΔvapH/(kJ/mol) is ΔatmH/(kJ/mol), which has a very very high correlation of 0.98582. These two variables have a very strong linear relationship and therefore a simple linear regression model should accurately predict the missing value for ΔvapH/(kJ/mol)."
   ]
  },
  {
   "cell_type": "code",
   "execution_count": 51,
   "metadata": {},
   "outputs": [
    {
     "name": "stdout",
     "output_type": "stream",
     "text": [
      "The missing value for ΔvapH/(kJ/mol) is 299.5163215288995, R2 score of 0.9660587946710816\n"
     ]
    }
   ],
   "source": [
    "#Create dependent and independent variables\n",
    "y = df[\"ΔvapH/(kJ/mol)\"].drop(6).values # vapH\n",
    "X = df[\"ΔatmH/(kJ/mol)\"].drop(6).values.reshape(-1,1) # atm\n",
    "X_train, X_test, y_train, y_test = train_test_split(X,y,test_size=0.2, random_state=42)\n",
    "predX=[[df[\"ΔatmH/(kJ/mol)\"].loc[6]]]\n",
    "\n",
    "reg = LinearRegression().fit(X_train,y_train)\n",
    "\n",
    "y_pred = reg.predict(X_test)\n",
    "\n",
    "r2 = r2_score(y_test, y_pred)\n",
    "\n",
    "prediction = reg.predict(predX)[0]\n",
    "\n",
    "print(f\"The missing value for ΔvapH/(kJ/mol) is {prediction}, R2 score of {r2}\")\n",
    "\n",
    "# Adding the value to the dataframe\n",
    "df_sing_reg.loc[6,\"ΔvapH/(kJ/mol)\"] = prediction\n"
   ]
  },
  {
   "cell_type": "markdown",
   "metadata": {},
   "source": [
    "The same can be done for σm/(MN/m)."
   ]
  },
  {
   "cell_type": "code",
   "execution_count": 52,
   "metadata": {},
   "outputs": [
    {
     "data": {
      "text/plain": [
       "σm/(MN/m)         1.000000\n",
       "ΔatmH/(kJ/mol)    0.873065\n",
       "Name: σm/(MN/m), dtype: float64"
      ]
     },
     "execution_count": 52,
     "metadata": {},
     "output_type": "execute_result"
    }
   ],
   "source": [
    "df.corr()[\"σm/(MN/m)\"].nlargest(2)"
   ]
  },
  {
   "cell_type": "markdown",
   "metadata": {},
   "source": [
    "For σm/(MN/m)"
   ]
  },
  {
   "cell_type": "markdown",
   "metadata": {},
   "source": [
    "It happends to have the same column as its biggest correlation, the correlation is still quite strong however not to the same degree as it was before."
   ]
  },
  {
   "cell_type": "code",
   "execution_count": 53,
   "metadata": {},
   "outputs": [
    {
     "name": "stdout",
     "output_type": "stream",
     "text": [
      "The missing value for σm/(MN/m) is 461.62459171457436, R2 score of 0.7020213363338601\n"
     ]
    }
   ],
   "source": [
    "#Create dependent and independent variables\n",
    "y = df[\"σm/(MN/m)\"].drop(14).values # σm/(MN/m)\n",
    "X = df[\"ΔatmH/(kJ/mol)\"].drop(14).values.reshape(-1,1) # atm\n",
    "X_train, X_test, y_train, y_test = train_test_split(X,y,test_size=0.2, random_state=42)\n",
    "predX=[[df[\"ΔatmH/(kJ/mol)\"].loc[14]]]\n",
    "\n",
    "reg = LinearRegression().fit(X_train,y_train)\n",
    "\n",
    "y_pred = reg.predict(X_test)\n",
    "\n",
    "r2 = r2_score(y_test, y_pred)\n",
    "\n",
    "prediction = reg.predict(predX)[0]\n",
    "\n",
    "print(f\"The missing value for σm/(MN/m) is {prediction}, R2 score of {r2}\")\n",
    "\n",
    "#Addin the value to the dataset\n",
    "df_sing_reg.loc[14,\"σm/(MN/m)\"] = prediction\n"
   ]
  },
  {
   "cell_type": "markdown",
   "metadata": {},
   "source": [
    "The r2 score of σm/(MN/m) is much lower than ΔvapH/(kJ/mol as expected due to the lower level of correlation it had with the independent varaible. The r2 score is quite low and has a value that is way off the median and mode predictions.\n",
    "\n",
    "Using this linear regression works if there is a highly correlated column. This therefore only works for the ΔvapH/(kJ/mol column which gets a good result. Another method should be used for both or at least  σm/(MN/m). "
   ]
  },
  {
   "cell_type": "markdown",
   "metadata": {},
   "source": [
    "Method 3 : Multiple linear regression"
   ]
  },
  {
   "cell_type": "markdown",
   "metadata": {},
   "source": [
    "For ΔvapH/(kJ/mol):"
   ]
  },
  {
   "cell_type": "code",
   "execution_count": 54,
   "metadata": {},
   "outputs": [
    {
     "name": "stdout",
     "output_type": "stream",
     "text": [
      "The missing value for ΔvapH/(kJ/mol) is 284.2107378388258, R2 score of 0.9672320445359208\n"
     ]
    }
   ],
   "source": [
    "df_mult_reg = df.copy()\n",
    "\n",
    "# Dependent and independent varaibles # want to drop the row which contains a NaN\n",
    "df_mult_reg_1 = df_mult_reg.drop(14,axis=0)\n",
    "\n",
    "y = df_mult_reg_1[\"ΔvapH/(kJ/mol)\"].drop(6,axis=0).values\n",
    "X = df_mult_reg_1.drop(\"ΔvapH/(kJ/mol)\",axis=1).drop(6,axis=0).values\n",
    "X_train, X_test, y_train, y_test = train_test_split(X,y,test_size=0.2, random_state=43)\n",
    "predX = [df_mult_reg_1.iloc[6].dropna().values]\n",
    "\n",
    "reg = LinearRegression().fit(X_train, y_train)\n",
    "\n",
    "y_pred = reg.predict(X_test)\n",
    "\n",
    "r2 = r2_score(y_test, y_pred)\n",
    "\n",
    "prediction1 = reg.predict(predX)[0]\n",
    "\n",
    "print(f\"The missing value for ΔvapH/(kJ/mol) is {prediction1}, R2 score of {r2}\") #R2 score is significantly changed by random state"
   ]
  },
  {
   "cell_type": "markdown",
   "metadata": {},
   "source": [
    "Doing test and train on such a small data set means that the R2 widely changes with the random state. It is therefore important to try a range of random states in order to get an idea for the power of the model."
   ]
  },
  {
   "cell_type": "markdown",
   "metadata": {},
   "source": [
    "For σm/(MN/m) :"
   ]
  },
  {
   "cell_type": "code",
   "execution_count": 55,
   "metadata": {},
   "outputs": [
    {
     "name": "stdout",
     "output_type": "stream",
     "text": [
      "The missing value for σm/(MN/m) is 533.8391324813008, R2 score of 0.9209156427520728.\n"
     ]
    }
   ],
   "source": [
    "df_mult_reg_2 = df_mult_reg.drop(6,axis=0)\n",
    "\n",
    "\n",
    "y = df_mult_reg_2[\"σm/(MN/m)\"].drop(14,axis=0).values\n",
    "X = df_mult_reg_2.drop(\"σm/(MN/m)\",axis=1).drop(14,axis=0)#.values\n",
    "X_train, X_test, y_train, y_test = train_test_split(X,y,test_size=0.2, random_state=42)\n",
    "predX = [df_mult_reg_2.iloc[13].dropna().values]\n",
    "\n",
    "reg = LinearRegression().fit(X_train, y_train)\n",
    "\n",
    "y_pred = reg.predict(X_test)\n",
    "\n",
    "r2 = r2_score(y_test, y_pred)\n",
    "\n",
    "prediction2 = reg.predict(predX)[0]\n",
    "\n",
    "print(f\"The missing value for σm/(MN/m) is {prediction2}, R2 score of {r2}.\") #R2 score is significantly changed by random state\n"
   ]
  },
  {
   "cell_type": "markdown",
   "metadata": {},
   "source": [
    "Multiple linear regression gives a good r2 score for both columns, this data is reliable enoguh to be used to fill in the missing values in the dataset."
   ]
  },
  {
   "cell_type": "markdown",
   "metadata": {},
   "source": [
    "These values are then imputed into the mult_reg dataframe"
   ]
  },
  {
   "cell_type": "code",
   "execution_count": 56,
   "metadata": {},
   "outputs": [],
   "source": [
    "df_mult_reg.loc[14,\"σm/(MN/m)\"] = prediction2\n",
    "df_mult_reg.loc[6,\"ΔvapH/(kJ/mol)\"] = prediction2"
   ]
  },
  {
   "cell_type": "markdown",
   "metadata": {},
   "source": [
    "Method 4 : Using k-nearest neighbors\n",
    "- Find the closest k samples from dataset to the sample with NaN value, and impute it with it the mean value of these samples. The challenge his is deciding on the number of neighbours for the model."
   ]
  },
  {
   "cell_type": "code",
   "execution_count": 57,
   "metadata": {},
   "outputs": [
    {
     "name": "stdout",
     "output_type": "stream",
     "text": [
      "The missing value for ΔvapH/(kJ/mol) is 304.21999999999997.\n",
      "The missing value for σm/(MN/m) is 589.4.\n"
     ]
    }
   ],
   "source": [
    "df_knn = df.copy()\n",
    "\n",
    "imputer = KNNImputer(n_neighbors=5, weights='uniform', metric='nan_euclidean')\n",
    "imputer.fit(df_knn)\n",
    "df_knn = imputer.transform(df_knn)\n",
    "\n",
    "df_knn = pd.DataFrame(df_knn)\n",
    "df_knn.columns = df.columns\n",
    "df_knn\n",
    "\n",
    "\n",
    "value1 = df_knn[\"ΔvapH/(kJ/mol)\"][6]\n",
    "value2 =df_knn[\"σm/(MN/m)\"][14] \n",
    "print(f\"The missing value for ΔvapH/(kJ/mol) is {value1}.\") \n",
    "print(f\"The missing value for σm/(MN/m) is {value2}.\") \n"
   ]
  },
  {
   "cell_type": "markdown",
   "metadata": {},
   "source": [
    "The paper uses 5 neighbours, so that is what was done, since we are already happy with the multiple linear regression values it is not necessary to explore the knn method too deeply. "
   ]
  },
  {
   "cell_type": "markdown",
   "metadata": {},
   "source": [
    "### Principal Component Analysis"
   ]
  },
  {
   "cell_type": "markdown",
   "metadata": {},
   "source": [
    "Principal Component Analysis (PCA) is a common method used for dimensionality reduction in data analysis. It involves transforming a set of related variables into a new set of unrelated variables called principal components. The main aim of PCA is to capture the maximum variation in the original data while reducing the number of variables used in the analysis.\n",
    "\n",
    "The first principal component represents a linear combination of the original variables that explains the most variability in the data, while the second principal component is defined as a linear combination of the remaining variables that explains the most variability, but is also uncorrelated with the first principal component. Additional principal components follow a similar pattern."
   ]
  },
  {
   "cell_type": "code",
   "execution_count": 58,
   "metadata": {},
   "outputs": [
    {
     "data": {
      "text/html": [
       "<div>\n",
       "<style scoped>\n",
       "    .dataframe tbody tr th:only-of-type {\n",
       "        vertical-align: middle;\n",
       "    }\n",
       "\n",
       "    .dataframe tbody tr th {\n",
       "        vertical-align: top;\n",
       "    }\n",
       "\n",
       "    .dataframe thead th {\n",
       "        text-align: right;\n",
       "    }\n",
       "</style>\n",
       "<table border=\"1\" class=\"dataframe\">\n",
       "  <thead>\n",
       "    <tr style=\"text-align: right;\">\n",
       "      <th></th>\n",
       "      <th>Ma</th>\n",
       "      <th>d/(g/cm3)</th>\n",
       "      <th>ra/pm</th>\n",
       "      <th>χ</th>\n",
       "      <th>I1/(kJ/mol)</th>\n",
       "      <th>I2/(kJ/mol)</th>\n",
       "      <th>I3/(kJ/mol)</th>\n",
       "      <th>Tm/K</th>\n",
       "      <th>Tb/K</th>\n",
       "      <th>ΔfusH/(kJ/mol)</th>\n",
       "      <th>ΔvapH/(kJ/mol)</th>\n",
       "      <th>ΔatmH/(kJ/mol)</th>\n",
       "      <th>S/(J/mol K)</th>\n",
       "      <th>Cp/(J/g K)</th>\n",
       "      <th>σm/(MN/m)</th>\n",
       "      <th>ρ/(µΩ cm)</th>\n",
       "      <th>λ/(W cm-1 K-1)</th>\n",
       "      <th>ΔfG/(kJ/mol)</th>\n",
       "    </tr>\n",
       "  </thead>\n",
       "  <tbody>\n",
       "    <tr>\n",
       "      <th>Ma</th>\n",
       "      <td>1.000000</td>\n",
       "      <td>0.868690</td>\n",
       "      <td>0.336646</td>\n",
       "      <td>-0.317519</td>\n",
       "      <td>-0.397909</td>\n",
       "      <td>-0.072709</td>\n",
       "      <td>-0.018879</td>\n",
       "      <td>-0.120679</td>\n",
       "      <td>-0.256316</td>\n",
       "      <td>0.129541</td>\n",
       "      <td>-0.364130</td>\n",
       "      <td>-0.364868</td>\n",
       "      <td>0.719466</td>\n",
       "      <td>-0.929526</td>\n",
       "      <td>-0.505585</td>\n",
       "      <td>0.226164</td>\n",
       "      <td>0.115689</td>\n",
       "      <td>0.230302</td>\n",
       "    </tr>\n",
       "    <tr>\n",
       "      <th>d/(g/cm3)</th>\n",
       "      <td>0.868690</td>\n",
       "      <td>1.000000</td>\n",
       "      <td>-0.144351</td>\n",
       "      <td>0.040275</td>\n",
       "      <td>-0.272558</td>\n",
       "      <td>0.144127</td>\n",
       "      <td>-0.126514</td>\n",
       "      <td>0.297898</td>\n",
       "      <td>-0.010042</td>\n",
       "      <td>0.440018</td>\n",
       "      <td>-0.157782</td>\n",
       "      <td>-0.107784</td>\n",
       "      <td>0.564918</td>\n",
       "      <td>-0.736813</td>\n",
       "      <td>-0.091693</td>\n",
       "      <td>0.288231</td>\n",
       "      <td>-0.073828</td>\n",
       "      <td>0.338545</td>\n",
       "    </tr>\n",
       "    <tr>\n",
       "      <th>ra/pm</th>\n",
       "      <td>0.336646</td>\n",
       "      <td>-0.144351</td>\n",
       "      <td>1.000000</td>\n",
       "      <td>-0.662319</td>\n",
       "      <td>-0.225569</td>\n",
       "      <td>-0.338621</td>\n",
       "      <td>0.202693</td>\n",
       "      <td>-0.648802</td>\n",
       "      <td>-0.481473</td>\n",
       "      <td>-0.447482</td>\n",
       "      <td>-0.449320</td>\n",
       "      <td>-0.525168</td>\n",
       "      <td>0.331390</td>\n",
       "      <td>-0.446943</td>\n",
       "      <td>-0.784427</td>\n",
       "      <td>-0.065404</td>\n",
       "      <td>0.331468</td>\n",
       "      <td>-0.289548</td>\n",
       "    </tr>\n",
       "    <tr>\n",
       "      <th>χ</th>\n",
       "      <td>-0.317519</td>\n",
       "      <td>0.040275</td>\n",
       "      <td>-0.662319</td>\n",
       "      <td>1.000000</td>\n",
       "      <td>0.703287</td>\n",
       "      <td>0.811946</td>\n",
       "      <td>0.330972</td>\n",
       "      <td>0.838060</td>\n",
       "      <td>-0.048030</td>\n",
       "      <td>0.751272</td>\n",
       "      <td>-0.001046</td>\n",
       "      <td>0.075446</td>\n",
       "      <td>-0.547324</td>\n",
       "      <td>0.564260</td>\n",
       "      <td>0.502571</td>\n",
       "      <td>-0.124647</td>\n",
       "      <td>0.124658</td>\n",
       "      <td>0.571748</td>\n",
       "    </tr>\n",
       "    <tr>\n",
       "      <th>I1/(kJ/mol)</th>\n",
       "      <td>-0.397909</td>\n",
       "      <td>-0.272558</td>\n",
       "      <td>-0.225569</td>\n",
       "      <td>0.703287</td>\n",
       "      <td>1.000000</td>\n",
       "      <td>0.496997</td>\n",
       "      <td>0.396354</td>\n",
       "      <td>0.511619</td>\n",
       "      <td>-0.285638</td>\n",
       "      <td>0.403203</td>\n",
       "      <td>-0.132607</td>\n",
       "      <td>-0.148070</td>\n",
       "      <td>-0.439499</td>\n",
       "      <td>0.548659</td>\n",
       "      <td>0.101693</td>\n",
       "      <td>-0.087737</td>\n",
       "      <td>0.316040</td>\n",
       "      <td>0.261853</td>\n",
       "    </tr>\n",
       "  </tbody>\n",
       "</table>\n",
       "</div>"
      ],
      "text/plain": [
       "                   Ma  d/(g/cm3)     ra/pm         χ  I1/(kJ/mol)  \\\n",
       "Ma           1.000000   0.868690  0.336646 -0.317519    -0.397909   \n",
       "d/(g/cm3)    0.868690   1.000000 -0.144351  0.040275    -0.272558   \n",
       "ra/pm        0.336646  -0.144351  1.000000 -0.662319    -0.225569   \n",
       "χ           -0.317519   0.040275 -0.662319  1.000000     0.703287   \n",
       "I1/(kJ/mol) -0.397909  -0.272558 -0.225569  0.703287     1.000000   \n",
       "\n",
       "             I2/(kJ/mol)  I3/(kJ/mol)      Tm/K      Tb/K  ΔfusH/(kJ/mol)  \\\n",
       "Ma             -0.072709    -0.018879 -0.120679 -0.256316        0.129541   \n",
       "d/(g/cm3)       0.144127    -0.126514  0.297898 -0.010042        0.440018   \n",
       "ra/pm          -0.338621     0.202693 -0.648802 -0.481473       -0.447482   \n",
       "χ               0.811946     0.330972  0.838060 -0.048030        0.751272   \n",
       "I1/(kJ/mol)     0.496997     0.396354  0.511619 -0.285638        0.403203   \n",
       "\n",
       "             ΔvapH/(kJ/mol)  ΔatmH/(kJ/mol)  S/(J/mol K)  Cp/(J/g K)  \\\n",
       "Ma                -0.364130       -0.364868     0.719466   -0.929526   \n",
       "d/(g/cm3)         -0.157782       -0.107784     0.564918   -0.736813   \n",
       "ra/pm             -0.449320       -0.525168     0.331390   -0.446943   \n",
       "χ                 -0.001046        0.075446    -0.547324    0.564260   \n",
       "I1/(kJ/mol)       -0.132607       -0.148070    -0.439499    0.548659   \n",
       "\n",
       "             σm/(MN/m)  ρ/(µΩ cm)  λ/(W cm-1 K-1)  ΔfG/(kJ/mol)  \n",
       "Ma           -0.505585   0.226164        0.115689      0.230302  \n",
       "d/(g/cm3)    -0.091693   0.288231       -0.073828      0.338545  \n",
       "ra/pm        -0.784427  -0.065404        0.331468     -0.289548  \n",
       "χ             0.502571  -0.124647        0.124658      0.571748  \n",
       "I1/(kJ/mol)   0.101693  -0.087737        0.316040      0.261853  "
      ]
     },
     "execution_count": 58,
     "metadata": {},
     "output_type": "execute_result"
    }
   ],
   "source": [
    "df.corr().head()"
   ]
  },
  {
   "cell_type": "markdown",
   "metadata": {},
   "source": [
    "The correlation data confirms that the Lanthanides properties are related to eachother and therefore can be reduced."
   ]
  },
  {
   "cell_type": "markdown",
   "metadata": {},
   "source": [
    "The imputed data that will be used is from the multiple linear regression imputatation."
   ]
  },
  {
   "cell_type": "code",
   "execution_count": 59,
   "metadata": {},
   "outputs": [],
   "source": [
    "df = df_mult_reg"
   ]
  },
  {
   "cell_type": "markdown",
   "metadata": {},
   "source": [
    "Standardization is often used in PCA because it ensures that each variable contributes equally to the analysis, regardless of its scale or units. In PCA, variables with larger scales and variances tend to dominate over those with smaller scales and variances."
   ]
  },
  {
   "cell_type": "code",
   "execution_count": 60,
   "metadata": {},
   "outputs": [],
   "source": [
    "# Standardize the data to have a mean of ~0 and a variance of 1\n",
    "df_ss = StandardScaler().fit_transform(df)\n",
    "\n",
    "# Create a PCA instance: pca\n",
    "pca = PCA(n_components=17)\n",
    "\n",
    "# do the PCA on the x_std matrix, and save the outputs as principalComponents\n",
    "principalComponents = pca.fit_transform(df_ss)\n",
    "# Save components to a DataFrame\n",
    "PCA_components = pd.DataFrame(principalComponents)"
   ]
  },
  {
   "cell_type": "code",
   "execution_count": 61,
   "metadata": {},
   "outputs": [
    {
     "data": {
      "text/plain": [
       "Text(0.5, 1.0, 'Plot of the PCA data for the first two indexes')"
      ]
     },
     "execution_count": 61,
     "metadata": {},
     "output_type": "execute_result"
    },
    {
     "data": {
      "image/png": "[encoded data removed]",
      "text/plain": [
       "<Figure size 432x288 with 1 Axes>"
      ]
     },
     "metadata": {
      "needs_background": "light"
     },
     "output_type": "display_data"
    }
   ],
   "source": [
    "plt.scatter(PCA_components[0], PCA_components[1], alpha=.5, color='red')\n",
    "for i, label in enumerate(elements):\n",
    "  plt.annotate(label, (PCA_components[0][i], PCA_components[1][i]))\n",
    "\n",
    "plt.xlabel('PC 1')\n",
    "plt.ylabel('PC 2')\n",
    "plt.title(\"Plot of the PCA data for the first two indexes\")"
   ]
  },
  {
   "cell_type": "markdown",
   "metadata": {},
   "source": [
    "The initial scatter plot of the PCA data in the first two indexes shows no clear pattern or clustering within the Lanthanides. The group 3 elements Sc and Y are on the outsides of the data as well as La which is what would be expected as we would expect the lanthanides to be very similar together due to their similar properties and the group 3 elements to be slightly seperated from them. Using k means clustering, it is possible to try to classify these data points in order to gather insights from the data."
   ]
  },
  {
   "cell_type": "code",
   "execution_count": 62,
   "metadata": {},
   "outputs": [
    {
     "data": {
      "image/png": "[encoded data removed]",
      "text/plain": [
       "<Figure size 432x288 with 1 Axes>"
      ]
     },
     "metadata": {
      "needs_background": "light"
     },
     "output_type": "display_data"
    }
   ],
   "source": [
    "# Plot the explained variances\n",
    "features = range(pca.n_components_)\n",
    "\n",
    "# calculate cumulative sum of explained variances\n",
    "cum_var_exp = np.cumsum(pca.explained_variance_ratio_)\n",
    "\n",
    "plt.bar(features, pca.explained_variance_ratio_, color='black')\n",
    "plt.step(range(1,18), cum_var_exp, where='mid',\n",
    "label='cumulative explained variance')\n",
    "plt.ylabel('Explained variance ratio')\n",
    "plt.xlabel('Principal component index')\n",
    "plt.legend(loc='best')\n",
    "plt.show()\n",
    "\n",
    "#print(pca.explained_variance_ratio_)"
   ]
  },
  {
   "cell_type": "markdown",
   "metadata": {},
   "source": [
    "This plot shows the eigenvalues of the correaltion maxtrix ordered from largerst to smallest and shows the proportion and cumulative proportion for each component. The first component explains 34.18% of the total varaicnes and the second componenent explains 27.49%, therefore a two componenent model only accounts for 61.67% of the total variance. A 3 component model would account of 79.93 of the total varaince. The larger the index the more noise is added, therefore sticking to 3 components and lower for this small dataset is enough to capture the model."
   ]
  },
  {
   "cell_type": "markdown",
   "metadata": {},
   "source": [
    "Since the third component is still quite significant, it is useful to plot a 3D graph"
   ]
  },
  {
   "cell_type": "code",
   "execution_count": 63,
   "metadata": {},
   "outputs": [
    {
     "data": {
      "text/plain": [
       "Text(0.5, 0, 'PC 3')"
      ]
     },
     "execution_count": 63,
     "metadata": {},
     "output_type": "execute_result"
    },
    {
     "data": {
      "image/png": "[encoded data removed]",
      "text/plain": [
       "<Figure size 720x720 with 1 Axes>"
      ]
     },
     "metadata": {
      "needs_background": "light"
     },
     "output_type": "display_data"
    }
   ],
   "source": [
    "\n",
    "fig = plt.figure(figsize=(10,10))\n",
    "ax = fig.add_subplot(projection='3d')\n",
    "\n",
    "#plt.scatter(PCA_components[0], PCA_components[1], PCA_components[2],alpha=1, c=\"black\",marker='o', linewidths=5,cmap='Set1',vmax=10)\n",
    "ax.scatter3D(PCA_components[0], PCA_components[1], PCA_components[2],linewidths=5, color='red')\n",
    "\n",
    "for i, label in enumerate(elements):\n",
    "    ax.text(PCA_components[0][i], PCA_components[1][i], PCA_components[2][i], label)# size=20, zorder=1, color='k') \n",
    "    # ax.plot((PCA_components[0][i], PCA_components[1][i],PCA_components[2][i]), (PCA_components[0][i], PCA_components[1][i],-3))\n",
    "    # ax.scatter(PCA_components[0][i], PCA_components[1][i],-3)\n",
    "    \n",
    "\n",
    "plt.xlabel('PC 1')\n",
    "plt.ylabel('PC 2')\n",
    "ax.set_zlabel('PC 3')"
   ]
  },
  {
   "cell_type": "markdown",
   "metadata": {},
   "source": [
    "K-means clustering is often used on data that has been pre-processed using principal component analysis (PCA) because PCA can reduce the dimensionality of the data and remove highly correlated variables, making it easier for K-means clustering to identify clusters based on similarity in the remaining variables. When K-means clustering is applied to a dataset that has been pre-processed using PCA, the clustering algorithm works with the reduced set of principal components, rather than the original high-dimensional data. This can make the clustering process faster and more accurate, since the PCA transformation has removed highly correlated variables and reduced the dimensionality of the data."
   ]
  },
  {
   "cell_type": "markdown",
   "metadata": {},
   "source": [
    "The number of clusters in K-means clustering can have a significant impact on the results of the algorithm. If the number of clusters is too small, the resulting clusters may be too general and not capture the underlying structure in the data. If the number of clusters is too large, the algorithm may overfit the data and create clusters that are too specific or noisy. However this variablilty allows us to investigate at different detailed scales and therefore we will want to use a number of different cluster values. Therefore a function to plot a cluster plot with n clusters was made."
   ]
  },
  {
   "cell_type": "code",
   "execution_count": 64,
   "metadata": {},
   "outputs": [],
   "source": [
    "def cluster_plots(c_list, index1=0, index2=1):\n",
    "\n",
    "    fig, axes = plt.subplots(nrows=2,ncols=3,figsize=(20,15))\n",
    "    axes = axes.flatten()\n",
    "    ind = 0\n",
    "    \n",
    "\n",
    "    for n in c_list:\n",
    "\n",
    "        kmeans = KMeans(n_clusters=n)\n",
    "        kmeans.fit(PCA_components.iloc[:,:])\n",
    "        \n",
    "        labels = kmeans.predict(PCA_components.iloc[:,:])\n",
    "\n",
    "        axes[ind].scatter(PCA_components[index1], PCA_components[index2], alpha=1, c=labels, cmap=\"Set1\")\n",
    "\n",
    "        for i, label in enumerate(elements):\n",
    "            axes[ind].annotate(label, (PCA_components[index1][i], PCA_components[index2][i]))\n",
    "\n",
    "        axes[ind].set_title(f\"{c_list[ind]} Clusters\")\n",
    "        axes[ind].set_xlabel(f'PC {index1}')\n",
    "        axes[ind].set_ylabel(f'PC {index2}')\n",
    "        axes[ind].axis('equal')\n",
    "\n",
    "        ind+=1\n",
    "\n",
    "    fig.tight_layout()  \n",
    "\n",
    "#Single Plot\n",
    "def cluster_plot(n, index1=0, index2=1):\n",
    "\n",
    "    fig, ax = plt.subplots(figsize=(7,7))\n",
    "\n",
    "    kmeans = KMeans(n_clusters=n)\n",
    "    kmeans.fit(PCA_components.iloc[:,:])\n",
    "    \n",
    "    labels = kmeans.predict(PCA_components.iloc[:,:])\n",
    "\n",
    "    ax.scatter(PCA_components[index1], PCA_components[index2], alpha=1, c=labels, cmap=\"Set1\")\n",
    "\n",
    "    for i, label in enumerate(elements):\n",
    "        ax.annotate(label, (PCA_components[index1][i], PCA_components[index2][i]))\n",
    "\n",
    "    ax.set_title(f\"{n} Clusters\")\n",
    "    ax.set_xlabel(f'PC {index1}')\n",
    "    ax.set_ylabel(f'PC {index2}')\n",
    "    ax.axis('equal')\n",
    "\n",
    "    fig.tight_layout()  "
   ]
  },
  {
   "cell_type": "code",
   "execution_count": 65,
   "metadata": {},
   "outputs": [
    {
     "data": {
      "image/png": "[encoded data removed]",
      "text/plain": [
       "<Figure size 1440x1080 with 6 Axes>"
      ]
     },
     "metadata": {
      "needs_background": "light"
     },
     "output_type": "display_data"
    }
   ],
   "source": [
    "#Plotting the clusters\n",
    "n_list = [2,3,4,5,6,7]\n",
    "cluster_plots(n_list,0,1)"
   ]
  },
  {
   "cell_type": "markdown",
   "metadata": {},
   "source": [
    "Without the scientific context, it is possible to spot some clustering patterns within the plots. For example it is clear that Sc and Y are somehow related and also different to the rest of the plots shown in the plot with 2 clusters. As the clustering gets less general, the rest of the points split up into two suggesting a detail within the cluster that is splitting them up. For each of these plots a scientific discussion is done below."
   ]
  },
  {
   "cell_type": "code",
   "execution_count": 66,
   "metadata": {},
   "outputs": [
    {
     "data": {
      "image/png": "[encoded data removed]",
      "text/plain": [
       "<Figure size 504x504 with 1 Axes>"
      ]
     },
     "metadata": {
      "needs_background": "light"
     },
     "output_type": "display_data"
    }
   ],
   "source": [
    "cluster_plot(2)"
   ]
  },
  {
   "cell_type": "markdown",
   "metadata": {},
   "source": [
    "Using two clusters shows clear separations and natural groupings. This is as general as clustering can get and therefore expect generalised clusters to form. In the case of this dataset, we know that there are two group 3 elements and then there is the identiy of Lanthanum which is unclear whether it belongs in group 3 or whether it belongs with the Lanthanides and then there is the Lantanides. For a general 2 clusterering algorithm, we would expect to see a difference between the group 3 elements and the lanthanides, however it is unsure as to where Lanthanum should be. This difference would be expected as although the group 3 properties are analagous to some of the Lanthanides, the overall difference in properties should be significant enough to seperate them from the Lantahnides. It can be helpful to look at a periodic table to see how far away the elements are and therefore just how relatively different they are to the differences between the Lanthanides.\n",
    "\n",
    "As seen in the graph, the two group 3 elements Yytrium and Scandium are clustered separetly to the other elements. There is a table in the paper that was provided which shows all the electronic configurations. The noble gas configuration base for Sc and Y are Ar and Kr respectively, unlike Lanthium and the Lanthanides which all have a Xe base. The difference also comes from the fact that Sc and Y are the only two to not have 6s^2 orbitals. Therefore having significantly different physical properties relative to the difference in physical properties within the Lanthanides."
   ]
  },
  {
   "cell_type": "code",
   "execution_count": 67,
   "metadata": {},
   "outputs": [
    {
     "data": {
      "image/png": "[encoded data removed]",
      "text/plain": [
       "<Figure size 504x504 with 1 Axes>"
      ]
     },
     "metadata": {
      "needs_background": "light"
     },
     "output_type": "display_data"
    }
   ],
   "source": [
    "cluster_plot(3)"
   ]
  },
  {
   "cell_type": "markdown",
   "metadata": {},
   "source": [
    "When splitting into 3 clusters, once again the group 3 elements Y and Sc are in a seperate cluster, but now the main cluster has been divided in two. One may notice that the clusters are split up into La Ce Pr Pm Nd and then the rest is the cluster spltting them up into two \"weight catergories\", the elements mentioned are refered to as the \"light Lanthanides\" and the remaining elements are the \"heavy\". The cluster known as the light lanthanides should include Sm in that category in order to line up with the results in the paper, however the method in which the Nan values were filled differ which will differ the PCA results for the elements ever so slightly as well as the fact that Sm is right on the tipping point and could therefore fall easily into either category. "
   ]
  },
  {
   "cell_type": "code",
   "execution_count": 68,
   "metadata": {},
   "outputs": [
    {
     "data": {
      "image/png": "[encoded data removed]",
      "text/plain": [
       "<Figure size 504x504 with 1 Axes>"
      ]
     },
     "metadata": {
      "needs_background": "light"
     },
     "output_type": "display_data"
    }
   ],
   "source": [
    "cluster_plot(4)"
   ]
  },
  {
   "cell_type": "markdown",
   "metadata": {},
   "source": [
    "The 4 cluster point is relatively the same as before, showing off the group 3 elements, and the splitting of the light and heavy Lanthanides. However with an extra cluster Eu, Yb and Sm are now in a group of their own. This can be explained by the fact that these elements are particularly stable electron configurations reletive to the others and therefore many of their properties deviate from the rest of the lanthanides. Eu and Yb both represent the same \"group\" in the Lanthanides with full outer orbitals."
   ]
  },
  {
   "cell_type": "code",
   "execution_count": 69,
   "metadata": {},
   "outputs": [
    {
     "data": {
      "image/png": "[encoded data removed]",
      "text/plain": [
       "<Figure size 504x504 with 1 Axes>"
      ]
     },
     "metadata": {
      "needs_background": "light"
     },
     "output_type": "display_data"
    }
   ],
   "source": [
    "cluster_plot(5)"
   ]
  },
  {
   "cell_type": "markdown",
   "metadata": {},
   "source": [
    "5 Clusters uniquely identifies Lu as different from the other Lanthanides. By having an electron configuration with one electron in the d subshell with the f subshell completely occupied unlike the other lanthanides as well as being the heaaviest element with greatest atomic number which brings it further away from the rest of the Lanthanides in terms of the PCA distance. The analysis almost supports Lu being assigned to the third group as an analogue to Y, as seen in the scatter Lu is split apart from the other Lanthanides as well as being almost just as close to the group 3 elements as it is to the Lanthanides in the cluster. This shows how clustering can be used to identifiy analogues and categorise the complicated elements."
   ]
  },
  {
   "cell_type": "markdown",
   "metadata": {},
   "source": [
    "In conclusion, starting with a partically empty dataset the missing data was imputed using a varierty of methods such as linear regressions. Using a multiple linear regression a complete dataframe was created for the use of exploring the clusters within the data in order to identify some scientific relations. After standardising the data a PCA fit was used in order to bring the number of dimensions down to a managable level. The PCA data was clustered using k means with a range of n_cluster levels. The clusters showed a more detailed look at the data the more clusters were incorporated. The most basic two clusters identified Y and Sc as being different from the rest of the elements, this was easily explained through the paper and scientific context as these elements are very different in terms of their atomic number/ size as well as their electronic configuration where as all the other elements were relatively similar. Three clusters split the remaining elements into two groups, this was explained by the different \"weights\" of the Lanthanides as briefly discussed in the paper. Going up to four clusters it was able to identify the more stable elements as being different from the general Lanthanides, the stability was explained. As the amount of clusters becomes larger, the more the variances of the data effects the output, at a point when the amount of clusters starts to get close to the amount of datapoints the method isn't very useful. At 5 clusters Lu is identified by itself suggesting that the Lu is different to the rest of the Lanthanides, the position of Lu in the two dimension PCA plot shows its proximity to the group 3 elements, especially Y. This creates the argument that Lu is an analogue of Y and could almost be considred a group 3 element itself."
   ]
  },
  {
   "cell_type": "markdown",
   "metadata": {},
   "source": [
    "# Part 2\n",
    "- The 1st ionisation energy is defined as the energy required to remove one electron from the outer shell of an atom (labelled as I1 in your data table).\n",
    "- Considering the change in atomic nucleus and electronic configuration, how would you expect the 1st ionisation energy to change on moving across the f-block? \n",
    "- Hence, considering also the results of your PCA analysis, compute posterior distribution(s) for the average 1st ionisation energy for the Lanthanides. \n",
    "- You should justify your choice of prior and likelihood distributions and sampling of data points."
   ]
  },
  {
   "cell_type": "code",
   "execution_count": 70,
   "metadata": {},
   "outputs": [
    {
     "data": {
      "text/html": [
       "<div>\n",
       "<style scoped>\n",
       "    .dataframe tbody tr th:only-of-type {\n",
       "        vertical-align: middle;\n",
       "    }\n",
       "\n",
       "    .dataframe tbody tr th {\n",
       "        vertical-align: top;\n",
       "    }\n",
       "\n",
       "    .dataframe thead th {\n",
       "        text-align: right;\n",
       "    }\n",
       "</style>\n",
       "<table border=\"1\" class=\"dataframe\">\n",
       "  <thead>\n",
       "    <tr style=\"text-align: right;\">\n",
       "      <th></th>\n",
       "      <th>Element</th>\n",
       "      <th>I1/(kJ/mol)</th>\n",
       "    </tr>\n",
       "  </thead>\n",
       "  <tbody>\n",
       "    <tr>\n",
       "      <th>0</th>\n",
       "      <td>Sc</td>\n",
       "      <td>631.0</td>\n",
       "    </tr>\n",
       "    <tr>\n",
       "      <th>1</th>\n",
       "      <td>Y</td>\n",
       "      <td>616.0</td>\n",
       "    </tr>\n",
       "    <tr>\n",
       "      <th>2</th>\n",
       "      <td>La</td>\n",
       "      <td>538.1</td>\n",
       "    </tr>\n",
       "    <tr>\n",
       "      <th>3</th>\n",
       "      <td>Ce</td>\n",
       "      <td>527.4</td>\n",
       "    </tr>\n",
       "    <tr>\n",
       "      <th>4</th>\n",
       "      <td>Pr</td>\n",
       "      <td>523.1</td>\n",
       "    </tr>\n",
       "    <tr>\n",
       "      <th>5</th>\n",
       "      <td>Nd</td>\n",
       "      <td>529.6</td>\n",
       "    </tr>\n",
       "    <tr>\n",
       "      <th>6</th>\n",
       "      <td>Pm</td>\n",
       "      <td>535.9</td>\n",
       "    </tr>\n",
       "    <tr>\n",
       "      <th>7</th>\n",
       "      <td>Sm</td>\n",
       "      <td>543.3</td>\n",
       "    </tr>\n",
       "    <tr>\n",
       "      <th>8</th>\n",
       "      <td>Eu</td>\n",
       "      <td>546.7</td>\n",
       "    </tr>\n",
       "    <tr>\n",
       "      <th>9</th>\n",
       "      <td>Gd</td>\n",
       "      <td>592.5</td>\n",
       "    </tr>\n",
       "    <tr>\n",
       "      <th>10</th>\n",
       "      <td>Tb</td>\n",
       "      <td>564.6</td>\n",
       "    </tr>\n",
       "    <tr>\n",
       "      <th>11</th>\n",
       "      <td>Dy</td>\n",
       "      <td>571.9</td>\n",
       "    </tr>\n",
       "    <tr>\n",
       "      <th>12</th>\n",
       "      <td>Ho</td>\n",
       "      <td>580.7</td>\n",
       "    </tr>\n",
       "    <tr>\n",
       "      <th>13</th>\n",
       "      <td>Er</td>\n",
       "      <td>588.7</td>\n",
       "    </tr>\n",
       "    <tr>\n",
       "      <th>14</th>\n",
       "      <td>Tm</td>\n",
       "      <td>596.7</td>\n",
       "    </tr>\n",
       "    <tr>\n",
       "      <th>15</th>\n",
       "      <td>Yb</td>\n",
       "      <td>603.4</td>\n",
       "    </tr>\n",
       "    <tr>\n",
       "      <th>16</th>\n",
       "      <td>Lu</td>\n",
       "      <td>523.5</td>\n",
       "    </tr>\n",
       "  </tbody>\n",
       "</table>\n",
       "</div>"
      ],
      "text/plain": [
       "   Element  I1/(kJ/mol)\n",
       "0       Sc        631.0\n",
       "1        Y        616.0\n",
       "2       La        538.1\n",
       "3       Ce        527.4\n",
       "4       Pr        523.1\n",
       "5       Nd        529.6\n",
       "6       Pm        535.9\n",
       "7       Sm        543.3\n",
       "8       Eu        546.7\n",
       "9       Gd        592.5\n",
       "10      Tb        564.6\n",
       "11      Dy        571.9\n",
       "12      Ho        580.7\n",
       "13      Er        588.7\n",
       "14      Tm        596.7\n",
       "15      Yb        603.4\n",
       "16      Lu        523.5"
      ]
     },
     "execution_count": 70,
     "metadata": {},
     "output_type": "execute_result"
    }
   ],
   "source": [
    "first_ions = pd.merge(elements,df[\"I1/(kJ/mol)\"], right_index=True,left_index=True)\n",
    "first_ions"
   ]
  },
  {
   "cell_type": "markdown",
   "metadata": {},
   "source": [
    "\n",
    "Since we are only interested in the f-block elements, Sc, Y and La will be removed.\n",
    "\n",
    "On moving across the f-block lanthanides, the first ionization energy is generally expected to increase. This is because the lanthanides have their outermost electrons in the f orbitals, which are shielded by the filled 5s and 5p orbitals of the preceding elements.\n",
    "\n",
    "The f orbitals are not very effective at shielding the nuclear charge, so the effective nuclear charge experienced by the outermost electrons increases as you move across the lanthanides. This results in a stronger attraction between the electrons and the nucleus, making it more difficult to remove the outermost electron, which in turn leads to a higher first ionization energy.\n",
    "\n",
    "Overall, the first ionization energy of the lanthanides is expected to increase as you move across the f-block, with some exceptions due to the unique electron configurations of some elements."
   ]
  },
  {
   "cell_type": "code",
   "execution_count": 71,
   "metadata": {},
   "outputs": [
    {
     "data": {
      "text/html": [
       "<div>\n",
       "<style scoped>\n",
       "    .dataframe tbody tr th:only-of-type {\n",
       "        vertical-align: middle;\n",
       "    }\n",
       "\n",
       "    .dataframe tbody tr th {\n",
       "        vertical-align: top;\n",
       "    }\n",
       "\n",
       "    .dataframe thead th {\n",
       "        text-align: right;\n",
       "    }\n",
       "</style>\n",
       "<table border=\"1\" class=\"dataframe\">\n",
       "  <thead>\n",
       "    <tr style=\"text-align: right;\">\n",
       "      <th></th>\n",
       "      <th>Element</th>\n",
       "      <th>I1/(kJ/mol)</th>\n",
       "    </tr>\n",
       "  </thead>\n",
       "  <tbody>\n",
       "    <tr>\n",
       "      <th>2</th>\n",
       "      <td>La</td>\n",
       "      <td>538.1</td>\n",
       "    </tr>\n",
       "    <tr>\n",
       "      <th>3</th>\n",
       "      <td>Ce</td>\n",
       "      <td>527.4</td>\n",
       "    </tr>\n",
       "    <tr>\n",
       "      <th>4</th>\n",
       "      <td>Pr</td>\n",
       "      <td>523.1</td>\n",
       "    </tr>\n",
       "    <tr>\n",
       "      <th>5</th>\n",
       "      <td>Nd</td>\n",
       "      <td>529.6</td>\n",
       "    </tr>\n",
       "    <tr>\n",
       "      <th>6</th>\n",
       "      <td>Pm</td>\n",
       "      <td>535.9</td>\n",
       "    </tr>\n",
       "    <tr>\n",
       "      <th>7</th>\n",
       "      <td>Sm</td>\n",
       "      <td>543.3</td>\n",
       "    </tr>\n",
       "    <tr>\n",
       "      <th>8</th>\n",
       "      <td>Eu</td>\n",
       "      <td>546.7</td>\n",
       "    </tr>\n",
       "    <tr>\n",
       "      <th>9</th>\n",
       "      <td>Gd</td>\n",
       "      <td>592.5</td>\n",
       "    </tr>\n",
       "    <tr>\n",
       "      <th>10</th>\n",
       "      <td>Tb</td>\n",
       "      <td>564.6</td>\n",
       "    </tr>\n",
       "    <tr>\n",
       "      <th>11</th>\n",
       "      <td>Dy</td>\n",
       "      <td>571.9</td>\n",
       "    </tr>\n",
       "    <tr>\n",
       "      <th>12</th>\n",
       "      <td>Ho</td>\n",
       "      <td>580.7</td>\n",
       "    </tr>\n",
       "    <tr>\n",
       "      <th>13</th>\n",
       "      <td>Er</td>\n",
       "      <td>588.7</td>\n",
       "    </tr>\n",
       "    <tr>\n",
       "      <th>14</th>\n",
       "      <td>Tm</td>\n",
       "      <td>596.7</td>\n",
       "    </tr>\n",
       "    <tr>\n",
       "      <th>15</th>\n",
       "      <td>Yb</td>\n",
       "      <td>603.4</td>\n",
       "    </tr>\n",
       "    <tr>\n",
       "      <th>16</th>\n",
       "      <td>Lu</td>\n",
       "      <td>523.5</td>\n",
       "    </tr>\n",
       "  </tbody>\n",
       "</table>\n",
       "</div>"
      ],
      "text/plain": [
       "   Element  I1/(kJ/mol)\n",
       "2       La        538.1\n",
       "3       Ce        527.4\n",
       "4       Pr        523.1\n",
       "5       Nd        529.6\n",
       "6       Pm        535.9\n",
       "7       Sm        543.3\n",
       "8       Eu        546.7\n",
       "9       Gd        592.5\n",
       "10      Tb        564.6\n",
       "11      Dy        571.9\n",
       "12      Ho        580.7\n",
       "13      Er        588.7\n",
       "14      Tm        596.7\n",
       "15      Yb        603.4\n",
       "16      Lu        523.5"
      ]
     },
     "execution_count": 71,
     "metadata": {},
     "output_type": "execute_result"
    }
   ],
   "source": [
    "first_ions = first_ions.iloc[2:]\n",
    "first_ions"
   ]
  },
  {
   "cell_type": "code",
   "execution_count": 72,
   "metadata": {},
   "outputs": [
    {
     "data": {
      "text/plain": [
       "Text(0, 0.5, '1st Ionisatoin Energy')"
      ]
     },
     "execution_count": 72,
     "metadata": {},
     "output_type": "execute_result"
    },
    {
     "data": {
      "image/png": "[encoded data removed]",
      "text/plain": [
       "<Figure size 432x288 with 1 Axes>"
      ]
     },
     "metadata": {
      "needs_background": "light"
     },
     "output_type": "display_data"
    }
   ],
   "source": [
    "plt.scatter(first_ions.index, first_ions[\"I1/(kJ/mol)\"])\n",
    "plt.ylabel(\"1st Ionisatoin Energy\")\n"
   ]
  },
  {
   "cell_type": "markdown",
   "metadata": {},
   "source": [
    "The data shows that, in general, the first ionization energy of the lanthanides increases as you move from left to right across the series, as expected.\n",
    "\n",
    "Overall, the first ionization energy data for the lanthanides supports the trend of increasing first ionization energy across the series, with some exceptions due to the unique electronic configurations of certain elements.\n",
    "\n",
    "The obvious exceptions come at Ce being slightly larger than it should be in order to fit the trend, however this diveregence is not nearly as significant than the values at Lu and Gd.\n",
    "Ld and Gd both have a 5d1 rahter than a 5d0 orbital."
   ]
  },
  {
   "cell_type": "markdown",
   "metadata": {},
   "source": []
  },
  {
   "cell_type": "code",
   "execution_count": 73,
   "metadata": {},
   "outputs": [
    {
     "data": {
      "text/html": [
       "<div>\n",
       "<style scoped>\n",
       "    .dataframe tbody tr th:only-of-type {\n",
       "        vertical-align: middle;\n",
       "    }\n",
       "\n",
       "    .dataframe tbody tr th {\n",
       "        vertical-align: top;\n",
       "    }\n",
       "\n",
       "    .dataframe thead th {\n",
       "        text-align: right;\n",
       "    }\n",
       "</style>\n",
       "<table border=\"1\" class=\"dataframe\">\n",
       "  <thead>\n",
       "    <tr style=\"text-align: right;\">\n",
       "      <th></th>\n",
       "      <th>I1/(kJ/mol)</th>\n",
       "    </tr>\n",
       "  </thead>\n",
       "  <tbody>\n",
       "    <tr>\n",
       "      <th>count</th>\n",
       "      <td>15.000000</td>\n",
       "    </tr>\n",
       "    <tr>\n",
       "      <th>mean</th>\n",
       "      <td>557.740000</td>\n",
       "    </tr>\n",
       "    <tr>\n",
       "      <th>std</th>\n",
       "      <td>29.059073</td>\n",
       "    </tr>\n",
       "    <tr>\n",
       "      <th>min</th>\n",
       "      <td>523.100000</td>\n",
       "    </tr>\n",
       "    <tr>\n",
       "      <th>25%</th>\n",
       "      <td>532.750000</td>\n",
       "    </tr>\n",
       "    <tr>\n",
       "      <th>50%</th>\n",
       "      <td>546.700000</td>\n",
       "    </tr>\n",
       "    <tr>\n",
       "      <th>75%</th>\n",
       "      <td>584.700000</td>\n",
       "    </tr>\n",
       "    <tr>\n",
       "      <th>max</th>\n",
       "      <td>603.400000</td>\n",
       "    </tr>\n",
       "  </tbody>\n",
       "</table>\n",
       "</div>"
      ],
      "text/plain": [
       "       I1/(kJ/mol)\n",
       "count    15.000000\n",
       "mean    557.740000\n",
       "std      29.059073\n",
       "min     523.100000\n",
       "25%     532.750000\n",
       "50%     546.700000\n",
       "75%     584.700000\n",
       "max     603.400000"
      ]
     },
     "execution_count": 73,
     "metadata": {},
     "output_type": "execute_result"
    }
   ],
   "source": [
    "first_ions.describe()"
   ]
  },
  {
   "cell_type": "markdown",
   "metadata": {},
   "source": [
    "To compute a posterior distribution for the average 1st ionisation energy for the Lanthanides, we can use a Bayesian approach. We need to specify a prior distribution for the parameter of interest, i.e., the average 1st ionisation energy, and a likelihood function that describes how the observed data points were generated."
   ]
  },
  {
   "cell_type": "markdown",
   "metadata": {},
   "source": [
    "For the prior distribution, we can use a normal distribution with mean and variance based on our knowledge of the Lanthanides. For example, we may use the mean and standard deviation of the 1st ionisation energies of the Lanthanides in the data table as our prior mean and standard deviation, respectively."
   ]
  },
  {
   "cell_type": "code",
   "execution_count": 74,
   "metadata": {},
   "outputs": [
    {
     "name": "stderr",
     "output_type": "stream",
     "text": [
      "C:\\Users\\georg\\AppData\\Local\\Temp/ipykernel_5884/799684153.py:1: FutureWarning: Dropping of nuisance columns in DataFrame reductions (with 'numeric_only=None') is deprecated; in a future version this will raise TypeError.  Select only valid columns before calling the reduction.\n",
      "  prior_dist = first_ions.mean()\n"
     ]
    }
   ],
   "source": [
    "prior_dist = first_ions.mean()"
   ]
  },
  {
   "cell_type": "markdown",
   "metadata": {},
   "source": [
    "For the likelihood function, we need to assume a distribution for the observed data points. Since the 1st ionisation energy is a continuous variable, we can use a normal distribution to model the data. The mean of the normal distribution is the parameter of interest, i.e., the average 1st ionisation energy for the Lanthanides, and the variance is the variance of the observed data points."
   ]
  },
  {
   "cell_type": "code",
   "execution_count": 75,
   "metadata": {},
   "outputs": [
    {
     "name": "stdout",
     "output_type": "stream",
     "text": [
      "29.059072839402752\n"
     ]
    }
   ],
   "source": [
    "\n",
    "mean = first_ions[\"I1/(kJ/mol)\"].mean()\n",
    "std = first_ions[\"I1/(kJ/mol)\"].std()\n",
    "size = (1,1)\n",
    "\n",
    "likeli = np.random.normal(mean,std,size)\n",
    "print(std)\n"
   ]
  },
  {
   "cell_type": "markdown",
   "metadata": {},
   "source": [
    "To sample data points, we can use a subset of the 1st ionisation energies for the Lanthanides in the data table. We can then use a Markov Chain Monte Carlo (MCMC) algorithm to sample from the posterior distribution of the average 1st ionisation energy given the prior and likelihood functions"
   ]
  },
  {
   "cell_type": "code",
   "execution_count": 86,
   "metadata": {},
   "outputs": [],
   "source": [
    "\n",
    "#defining the beta function and gaussian which have been taken from workshop 14\n",
    "import math\n",
    "\n",
    "def calculate_beta(x, a, b): \n",
    "\n",
    "    A1 = x**(a-1)\n",
    "\n",
    "    A2 = (1-x)**(b-1)\n",
    "\n",
    "    A3 = math.gamma(a)*math.gamma(b)/math.gamma(a+b)\n",
    "\n",
    "    return A1*A2/A3\n",
    "\n",
    "\n",
    "def compute_gaussian(x,mean,sd):\n",
    "\n",
    "    A1 = sd*np.sqrt(2*np.pi)\n",
    "\n",
    "    A2 = 0.5*((x-mean)/(sd))**2\n",
    "\n",
    "    return (1/A1)*np.exp(-A2)"
   ]
  },
  {
   "cell_type": "markdown",
   "metadata": {},
   "source": [
    "Since we are looking only at the Lanthanides, the Sc and Y points should be removed from the data set."
   ]
  },
  {
   "cell_type": "code",
   "execution_count": 77,
   "metadata": {},
   "outputs": [
    {
     "data": {
      "text/plain": [
       "Text(0.5, 1.0, 'First ionistation energy of the elements')"
      ]
     },
     "execution_count": 77,
     "metadata": {},
     "output_type": "execute_result"
    },
    {
     "data": {
      "image/png": "[encoded data removed]",
      "text/plain": [
       "<Figure size 432x288 with 1 Axes>"
      ]
     },
     "metadata": {
      "needs_background": "light"
     },
     "output_type": "display_data"
    }
   ],
   "source": [
    "first_ions = df_all['I1/(kJ/mol)'][2:]\n",
    "\n",
    "x1 = round(np.mean(df_all['I1/(kJ/mol)']),1)\n",
    "\n",
    "fig, ax = plt.subplots()\n",
    "ax.plot(elements[2:],first_ions,'*-',color=\"red\");\n",
    "ax.set_title(\"First ionistation energy of the elements\")"
   ]
  },
  {
   "cell_type": "markdown",
   "metadata": {},
   "source": [
    "From this plot of all the ionisation in order of element weight, you can see that there is a sort of disribution. Where on average the energies are increaseing and then at the end it drops. This can be almost modelled by a Beta distribution where the mean is shifted to the right, this will also encompass the large drop at the end. Therefore a likelihood dist will be created with the beta function between the min and max energy levels."
   ]
  },
  {
   "cell_type": "code",
   "execution_count": 78,
   "metadata": {},
   "outputs": [
    {
     "name": "stdout",
     "output_type": "stream",
     "text": [
      "Unnormalised areas = 1\n"
     ]
    },
    {
     "data": {
      "image/png": "[encoded data removed]",
      "text/plain": [
       "<Figure size 432x288 with 1 Axes>"
      ]
     },
     "metadata": {
      "needs_background": "light"
     },
     "output_type": "display_data"
    },
    {
     "data": {
      "image/png": "[encoded data removed]",
      "text/plain": [
       "<Figure size 432x288 with 1 Axes>"
      ]
     },
     "metadata": {
      "needs_background": "light"
     },
     "output_type": "display_data"
    }
   ],
   "source": [
    "#Calculatoing likelhood\n",
    "fig, ax = plt.subplots()\n",
    "grid = np.linspace(0,1,1001)\n",
    "grid_plot = []\n",
    "like = []\n",
    "count = 0\n",
    "for i in grid:\n",
    "\n",
    "    val = calculate_beta(i,3.7,1.6)\n",
    "\n",
    "    like.append(val)\n",
    "\n",
    "    count+=val\n",
    "\n",
    "    grid_plot.append((i*100)+540)\n",
    "\n",
    "like_norm = np.asarray(like)/count\n",
    "ax.plot(grid_plot, like);\n",
    "ax.set_title(\"Unnormalised likelihood\")\n",
    "\n",
    "\n",
    "fig, ax = plt.subplots()\n",
    "ax.plot(grid_plot, like_norm);\n",
    "print(f\"Unnormalised areas = {round(count/count)}\")\n",
    "ax.set_title(\"Normalised likelihood\")\n",
    "\n",
    "\n",
    "fig.tight_layout()"
   ]
  },
  {
   "cell_type": "markdown",
   "metadata": {},
   "source": [
    "Here the likelhoods have been created, as you can see it vaguely resembles the energy plot of the first ionsations that was shown above. A normalised version has also been created however this just looks the same but with the sizes scaled down so that the area under the curve is equal to 1."
   ]
  },
  {
   "cell_type": "markdown",
   "metadata": {},
   "source": [
    "Now it is time to make the postierior. Since we don't know much about how the data is distributed apart from the mean and std, we will use a sime gaussian to compute the distribution.  We will use the mean and std that were created above inside the gaussain function."
   ]
  },
  {
   "cell_type": "code",
   "execution_count": 79,
   "metadata": {},
   "outputs": [
    {
     "name": "stdout",
     "output_type": "stream",
     "text": [
      "Area of non normalised prior = 8.9\n",
      "Area of normalised prior = 1.0\n"
     ]
    },
    {
     "data": {
      "image/png": "[encoded data removed]",
      "text/plain": [
       "<Figure size 432x288 with 1 Axes>"
      ]
     },
     "metadata": {
      "needs_background": "light"
     },
     "output_type": "display_data"
    },
    {
     "data": {
      "image/png": "[encoded data removed]",
      "text/plain": [
       "<Figure size 432x288 with 1 Axes>"
      ]
     },
     "metadata": {
      "needs_background": "light"
     },
     "output_type": "display_data"
    }
   ],
   "source": [
    "#calc prior\n",
    "grid_prior = np.linspace(540,620,1001)\n",
    "prior = []\n",
    "count = 0\n",
    "\n",
    "for i in grid_prior:\n",
    "    val = compute_gaussian(i,mean,std)\n",
    "    prior.append(val)\n",
    "    count+=val\n",
    "\n",
    "prior_norm = np.asarray(prior)/count\n",
    "fig, ax = plt.subplots()\n",
    "ax.plot(grid_prior, prior);\n",
    "print(f\"Area of non normalised prior = {round(count,1)}\")\n",
    "ax.set_title(\"Prior function\")\n",
    "\n",
    "\n",
    "fig, ax = plt.subplots()\n",
    "ax.plot(grid_prior, prior_norm,)\n",
    "print(f\"Area of normalised prior = {round(count/count,1)}\")\n",
    "\n",
    "ax.set_title(\"Prior function normalised\")\n",
    "fig.tight_layout()\n"
   ]
  },
  {
   "cell_type": "markdown",
   "metadata": {},
   "source": [
    "We can see that the prior function has a maximum value over the mean, and a nice tail towards the low 600s which is where the data was leading too and had the one \"outlier\" of Yb."
   ]
  },
  {
   "cell_type": "markdown",
   "metadata": {},
   "source": [
    "Now we have the likliness andn the prior calculated and normalised, we are able to combine them to get a value for our posterior."
   ]
  },
  {
   "cell_type": "code",
   "execution_count": 82,
   "metadata": {},
   "outputs": [
    {
     "name": "stdout",
     "output_type": "stream",
     "text": [
      "NB factor = 0.0006810068305020671\n"
     ]
    },
    {
     "data": {
      "image/png": "[encoded data removed]",
      "text/plain": [
       "<Figure size 432x288 with 1 Axes>"
      ]
     },
     "metadata": {
      "needs_background": "light"
     },
     "output_type": "display_data"
    }
   ],
   "source": [
    "#norm_factor == norm_prior*norm_likelihood\n",
    "norm_factor = np.dot(prior_norm,like_norm)\n",
    "print(f\"NB factor = {norm_factor}\")\n",
    "\n",
    "#calc post\n",
    "posterior = []\n",
    "grid_post = np.linspace(540,620,1001)\n",
    "\n",
    "for i in range(len(grid_post)):\n",
    "\n",
    "    posterior.append(prior_norm[i] * like_norm[i]/norm_factor)\n",
    "\n",
    "#plot of all the normed prior post and like\n",
    "fig,ax = plt.subplots()\n",
    "ax.plot(grid_plot, like_norm, label = 'Norm likelihood')\n",
    "ax.plot(grid_plot, prior_norm, label = 'Norm prior')\n",
    "ax.plot(grid_plot, posterior, label = 'Posterior')\n",
    "ax.set_title(\"Distributions of Like Post and Prior\")\n",
    "ax.legend();\n"
   ]
  },
  {
   "cell_type": "markdown",
   "metadata": {},
   "source": [
    "We can then use this newly calculated positerior to find a new mean by finding the maximum value of the distribution."
   ]
  },
  {
   "cell_type": "code",
   "execution_count": 87,
   "metadata": {},
   "outputs": [
    {
     "name": "stdout",
     "output_type": "stream",
     "text": [
      "New mean = 600.7\n",
      "Old mean = 557.7399999999999\n"
     ]
    }
   ],
   "source": [
    "new_mean = grid_plot[np.where(np.asarray(posterior)==np.asarray(posterior).max())[0][0]]\n",
    "print(f\"New mean = {new_mean}\")\n",
    "print(f\"Old mean = {mean}\")"
   ]
  },
  {
   "cell_type": "markdown",
   "metadata": {},
   "source": [
    "Using Bayesian we have been able to compute a new mean using the Beta and gaussian distrubitions for the likelihood and prior."
   ]
  },
  {
   "cell_type": "markdown",
   "metadata": {},
   "source": [
    "The newly calculated mean is 600.7. The mean calcualted from the dataset was 556.7."
   ]
  },
  {
   "cell_type": "code",
   "execution_count": null,
   "metadata": {},
   "outputs": [],
   "source": []
  }
 ],
 "metadata": {
  "kernelspec": {
   "display_name": "Python 3.9.7 ('base')",
   "language": "python",
   "name": "python3"
  },
  "language_info": {
   "codemirror_mode": {
    "name": "ipython",
    "version": 3
   },
   "file_extension": ".py",
   "mimetype": "text/x-python",
   "name": "python",
   "nbconvert_exporter": "python",
   "pygments_lexer": "ipython3",
   "version": "3.9.7"
  },
  "orig_nbformat": 4,
  "vscode": {
   "interpreter": {
    "hash": "27871bb776cd64da3396aefbb91cd1f5b94cfa7205ce999e2f32adc9cda7309b"
   }
  }
 },
 "nbformat": 4,
 "nbformat_minor": 2
}
